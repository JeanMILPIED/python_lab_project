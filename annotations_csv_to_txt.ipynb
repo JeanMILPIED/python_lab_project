{
 "cells": [
  {
   "cell_type": "code",
   "execution_count": 1,
   "metadata": {},
   "outputs": [],
   "source": [
    "import pandas as pd\n",
    "import cv2\n",
    "import os"
   ]
  },
  {
   "cell_type": "code",
   "execution_count": 2,
   "metadata": {},
   "outputs": [],
   "source": [
    "CSVPATH = \"./csv/\"\n",
    "TXTPATH = \"./txt/\"\n",
    "IMAGESPATH = \"./images/\"\n",
    "files = os.listdir(CSVPATH)\n",
    "\n",
    "categ = {\"pant\":0,\"skirt\":1,\"dress\":2,\"shoes\":3,\"hat\":4,\"coat\":5,\"shirt\":6,\"pull\":7}"
   ]
  },
  {
   "cell_type": "code",
   "execution_count": 3,
   "metadata": {},
   "outputs": [],
   "source": [
    "def annotation_csv_to_txt():\n",
    "    for file in files:\n",
    "        mypd = pd.read_csv(os.path.join(CSVPATH,file))\n",
    "        for f in mypd.filename.unique():\n",
    "            root,ext = os.path.splitext(f)\n",
    "            output = []\n",
    "            for idx,line in mypd[mypd['filename']==f].iterrows():\n",
    "                imshape = cv2.imread(os.path.join(IMAGESPATH,line.filename)).shape\n",
    "                mydict = eval(line.region_shape_attributes)\n",
    "                mylabeldict = eval(line.region_attributes)\n",
    "                dwidth = mydict['width'] / imshape[0]\n",
    "                dheight = mydict['height'] / imshape[1]\n",
    "                xcenter = (mydict['x']+dwidth/2)/imshape[0]\n",
    "                ycenter = (mydict['y']+dheight/2)/imshape[1]\n",
    "                cat = categ[mylabeldict['clothe']]\n",
    "                output.append([cat,xcenter,ycenter,dwidth,dheight])\n",
    "            outputf = pd.DataFrame(output)\n",
    "            outputf.to_csv(os.path.join(TXTPATH,root+\".txt\"),index=False,header=False,sep=\" \")"
   ]
  },
  {
   "cell_type": "code",
   "execution_count": 4,
   "metadata": {},
   "outputs": [],
   "source": [
    "annotation_csv_to_txt()"
   ]
  }
 ],
 "metadata": {
  "kernelspec": {
   "display_name": "Python [conda env:pylab]",
   "language": "python",
   "name": "conda-env-pylab-py"
  },
  "language_info": {
   "codemirror_mode": {
    "name": "ipython",
    "version": 3
   },
   "file_extension": ".py",
   "mimetype": "text/x-python",
   "name": "python",
   "nbconvert_exporter": "python",
   "pygments_lexer": "ipython3",
   "version": "3.7.6"
  }
 },
 "nbformat": 4,
 "nbformat_minor": 4
}
